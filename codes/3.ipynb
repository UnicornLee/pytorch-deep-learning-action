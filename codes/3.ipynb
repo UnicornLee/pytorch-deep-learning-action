{
 "cells": [
  {
   "cell_type": "code",
   "id": "initial_id",
   "metadata": {
    "collapsed": true,
    "ExecuteTime": {
     "end_time": "2025-04-08T08:25:42.040210Z",
     "start_time": "2025-04-08T08:25:41.709110Z"
    }
   },
   "source": [
    "import torch\n",
    "import pandas as pd"
   ],
   "outputs": [],
   "execution_count": 8
  },
  {
   "metadata": {
    "ExecuteTime": {
     "end_time": "2025-04-08T08:25:44.508239Z",
     "start_time": "2025-04-08T08:25:44.497240Z"
    }
   },
   "cell_type": "code",
   "source": [
    "points = torch.full([3, 3], 6)\n",
    "points"
   ],
   "id": "310c2c2f71867e0d",
   "outputs": [
    {
     "data": {
      "text/plain": [
       "tensor([[6, 6, 6],\n",
       "        [6, 6, 6],\n",
       "        [6, 6, 6]])"
      ]
     },
     "execution_count": 9,
     "metadata": {},
     "output_type": "execute_result"
    }
   ],
   "execution_count": 9
  },
  {
   "metadata": {
    "ExecuteTime": {
     "end_time": "2025-04-08T08:25:50.363388Z",
     "start_time": "2025-04-08T08:25:50.350362Z"
    }
   },
   "cell_type": "code",
   "source": "torch.save(points, 'D:/Code/PythonCode/pytorch-deep-learning-action/data/3/ourpoints.t')",
   "id": "6ea3ecfe5e4e974a",
   "outputs": [],
   "execution_count": 10
  },
  {
   "metadata": {
    "ExecuteTime": {
     "end_time": "2025-04-08T08:27:24.547543Z",
     "start_time": "2025-04-08T08:27:24.528032Z"
    }
   },
   "cell_type": "code",
   "source": [
    "new_p = torch.load('D:/Code/PythonCode/pytorch-deep-learning-action/data/3/ourpoints.t', weights_only=True)\n",
    "new_p"
   ],
   "id": "7cb5c8d552776c9b",
   "outputs": [
    {
     "data": {
      "text/plain": [
       "tensor([[6, 6, 6],\n",
       "        [6, 6, 6],\n",
       "        [6, 6, 6]])"
      ]
     },
     "execution_count": 12,
     "metadata": {},
     "output_type": "execute_result"
    }
   ],
   "execution_count": 12
  },
  {
   "metadata": {
    "ExecuteTime": {
     "end_time": "2025-04-08T08:28:18.711921Z",
     "start_time": "2025-04-08T08:28:18.698923Z"
    }
   },
   "cell_type": "code",
   "source": [
    "with open('D:/Code/PythonCode/pytorch-deep-learning-action/data/3/ourpoints.t', 'rb') as f:\n",
    "    new_points = torch.load(f, weights_only=True)\n",
    "new_points"
   ],
   "id": "512c84a258cda07",
   "outputs": [
    {
     "data": {
      "text/plain": [
       "tensor([[6, 6, 6],\n",
       "        [6, 6, 6],\n",
       "        [6, 6, 6]])"
      ]
     },
     "execution_count": 13,
     "metadata": {},
     "output_type": "execute_result"
    }
   ],
   "execution_count": 13
  },
  {
   "metadata": {
    "ExecuteTime": {
     "end_time": "2025-04-08T08:38:55.475060Z",
     "start_time": "2025-04-08T08:38:55.421794Z"
    }
   },
   "cell_type": "code",
   "source": "import h5py",
   "id": "46f3166f480cfd70",
   "outputs": [],
   "execution_count": 14
  },
  {
   "metadata": {
    "ExecuteTime": {
     "end_time": "2025-04-08T08:38:57.527303Z",
     "start_time": "2025-04-08T08:38:57.499670Z"
    }
   },
   "cell_type": "code",
   "source": [
    "points = torch.ones(3, 3)\n",
    "f = h5py.File('D:/Code/PythonCode/pytorch-deep-learning-action/data/3/ourpoints.hdf5', 'w')\n",
    "dset = f.create_dataset('points', data=points.numpy())\n",
    "f.close()"
   ],
   "id": "367316fea6804cd2",
   "outputs": [],
   "execution_count": 15
  },
  {
   "metadata": {
    "ExecuteTime": {
     "end_time": "2025-04-08T08:40:15.652147Z",
     "start_time": "2025-04-08T08:40:15.627337Z"
    }
   },
   "cell_type": "code",
   "source": [
    "f = h5py.File('D:/Code/PythonCode/pytorch-deep-learning-action/data/3/ourpoints.hdf5', 'r')\n",
    "dset = f['points']\n",
    "last_points = torch.from_numpy(dset[:])\n",
    "f.close()\n",
    "last_points"
   ],
   "id": "3a6f23608b5fcdae",
   "outputs": [
    {
     "data": {
      "text/plain": [
       "tensor([[1., 1., 1.],\n",
       "        [1., 1., 1.],\n",
       "        [1., 1., 1.]])"
      ]
     },
     "execution_count": 16,
     "metadata": {},
     "output_type": "execute_result"
    }
   ],
   "execution_count": 16
  },
  {
   "metadata": {
    "ExecuteTime": {
     "end_time": "2025-04-08T08:52:21.105514Z",
     "start_time": "2025-04-08T08:52:21.085559Z"
    }
   },
   "cell_type": "code",
   "source": [
    "a = torch.ones((4, 5))\n",
    "a"
   ],
   "id": "468f3df410c214ae",
   "outputs": [
    {
     "data": {
      "text/plain": [
       "tensor([[1., 1., 1., 1., 1.],\n",
       "        [1., 1., 1., 1., 1.],\n",
       "        [1., 1., 1., 1., 1.],\n",
       "        [1., 1., 1., 1., 1.]])"
      ]
     },
     "execution_count": 17,
     "metadata": {},
     "output_type": "execute_result"
    }
   ],
   "execution_count": 17
  },
  {
   "metadata": {
    "ExecuteTime": {
     "end_time": "2025-04-08T08:53:10.136104Z",
     "start_time": "2025-04-08T08:53:10.119111Z"
    }
   },
   "cell_type": "code",
   "source": [
    "cat_a1 = torch.cat([a, a], dim=0)\n",
    "cat_a1"
   ],
   "id": "59eefde035a6ad7e",
   "outputs": [
    {
     "data": {
      "text/plain": [
       "tensor([[1., 1., 1., 1., 1.],\n",
       "        [1., 1., 1., 1., 1.],\n",
       "        [1., 1., 1., 1., 1.],\n",
       "        [1., 1., 1., 1., 1.],\n",
       "        [1., 1., 1., 1., 1.],\n",
       "        [1., 1., 1., 1., 1.],\n",
       "        [1., 1., 1., 1., 1.],\n",
       "        [1., 1., 1., 1., 1.]])"
      ]
     },
     "execution_count": 18,
     "metadata": {},
     "output_type": "execute_result"
    }
   ],
   "execution_count": 18
  },
  {
   "metadata": {
    "ExecuteTime": {
     "end_time": "2025-04-08T08:54:27.330613Z",
     "start_time": "2025-04-08T08:54:27.309606Z"
    }
   },
   "cell_type": "code",
   "source": [
    "cat_a2 = torch.cat([a, a], dim=1)\n",
    "cat_a2"
   ],
   "id": "7d2bacf63392d3ac",
   "outputs": [
    {
     "data": {
      "text/plain": [
       "tensor([[1., 1., 1., 1., 1., 1., 1., 1., 1., 1.],\n",
       "        [1., 1., 1., 1., 1., 1., 1., 1., 1., 1.],\n",
       "        [1., 1., 1., 1., 1., 1., 1., 1., 1., 1.],\n",
       "        [1., 1., 1., 1., 1., 1., 1., 1., 1., 1.]])"
      ]
     },
     "execution_count": 19,
     "metadata": {},
     "output_type": "execute_result"
    }
   ],
   "execution_count": 19
  },
  {
   "metadata": {
    "ExecuteTime": {
     "end_time": "2025-04-08T08:56:52.930529Z",
     "start_time": "2025-04-08T08:56:52.914589Z"
    }
   },
   "cell_type": "code",
   "source": [
    "a = torch.normal(0, 1, (3, 4))\n",
    "b = torch.normal(0, 1, (3, 4))\n",
    "a"
   ],
   "id": "a690d3b2a17ab8d7",
   "outputs": [
    {
     "data": {
      "text/plain": [
       "tensor([[-1.6491, -0.2472,  0.4581,  0.1088],\n",
       "        [ 0.3564, -0.1417,  0.9881,  1.3076],\n",
       "        [-0.0697, -0.2187,  1.3871,  1.2054]])"
      ]
     },
     "execution_count": 20,
     "metadata": {},
     "output_type": "execute_result"
    }
   ],
   "execution_count": 20
  },
  {
   "metadata": {
    "ExecuteTime": {
     "end_time": "2025-04-08T08:57:24.401393Z",
     "start_time": "2025-04-08T08:57:24.378395Z"
    }
   },
   "cell_type": "code",
   "source": [
    "cat_ab1 = torch.stack([a, b], dim=0)\n",
    "cat_ab1"
   ],
   "id": "9c381d5419f947f9",
   "outputs": [
    {
     "data": {
      "text/plain": [
       "tensor([[[-1.6491, -0.2472,  0.4581,  0.1088],\n",
       "         [ 0.3564, -0.1417,  0.9881,  1.3076],\n",
       "         [-0.0697, -0.2187,  1.3871,  1.2054]],\n",
       "\n",
       "        [[-0.6229,  0.0794,  0.7143,  0.2698],\n",
       "         [-0.2063, -0.2342, -0.5200,  0.9406],\n",
       "         [-1.1595,  0.7688,  0.1383,  0.9282]]])"
      ]
     },
     "execution_count": 21,
     "metadata": {},
     "output_type": "execute_result"
    }
   ],
   "execution_count": 21
  },
  {
   "metadata": {
    "ExecuteTime": {
     "end_time": "2025-04-08T08:59:40.872211Z",
     "start_time": "2025-04-08T08:59:40.853779Z"
    }
   },
   "cell_type": "code",
   "source": [
    "cat_ab2 = torch.stack([a, b], dim=2)\n",
    "cat_ab2"
   ],
   "id": "48e1ce2db212d071",
   "outputs": [
    {
     "data": {
      "text/plain": [
       "tensor([[[-1.6491, -0.6229],\n",
       "         [-0.2472,  0.0794],\n",
       "         [ 0.4581,  0.7143],\n",
       "         [ 0.1088,  0.2698]],\n",
       "\n",
       "        [[ 0.3564, -0.2063],\n",
       "         [-0.1417, -0.2342],\n",
       "         [ 0.9881, -0.5200],\n",
       "         [ 1.3076,  0.9406]],\n",
       "\n",
       "        [[-0.0697, -1.1595],\n",
       "         [-0.2187,  0.7688],\n",
       "         [ 1.3871,  0.1383],\n",
       "         [ 1.2054,  0.9282]]])"
      ]
     },
     "execution_count": 22,
     "metadata": {},
     "output_type": "execute_result"
    }
   ],
   "execution_count": 22
  },
  {
   "metadata": {
    "ExecuteTime": {
     "end_time": "2025-04-08T11:08:56.097090Z",
     "start_time": "2025-04-08T11:08:56.066087Z"
    }
   },
   "cell_type": "code",
   "source": [
    "a = torch.ones((3, 7))\n",
    "a"
   ],
   "id": "6dc75710604eb574",
   "outputs": [
    {
     "data": {
      "text/plain": [
       "tensor([[1., 1., 1., 1., 1., 1., 1.],\n",
       "        [1., 1., 1., 1., 1., 1., 1.],\n",
       "        [1., 1., 1., 1., 1., 1., 1.]])"
      ]
     },
     "execution_count": 23,
     "metadata": {},
     "output_type": "execute_result"
    }
   ],
   "execution_count": 23
  },
  {
   "metadata": {
    "ExecuteTime": {
     "end_time": "2025-04-08T11:10:05.826828Z",
     "start_time": "2025-04-08T11:10:05.792250Z"
    }
   },
   "cell_type": "code",
   "source": [
    "chunker_a = torch.chunk(a, 3, dim=1)\n",
    "chunker_a"
   ],
   "id": "fd50ca08a74560b1",
   "outputs": [
    {
     "data": {
      "text/plain": [
       "(tensor([[1., 1., 1.],\n",
       "         [1., 1., 1.],\n",
       "         [1., 1., 1.]]),\n",
       " tensor([[1., 1., 1.],\n",
       "         [1., 1., 1.],\n",
       "         [1., 1., 1.]]),\n",
       " tensor([[1.],\n",
       "         [1.],\n",
       "         [1.]]))"
      ]
     },
     "execution_count": 24,
     "metadata": {},
     "output_type": "execute_result"
    }
   ],
   "execution_count": 24
  },
  {
   "metadata": {
    "ExecuteTime": {
     "end_time": "2025-04-08T11:13:02.157423Z",
     "start_time": "2025-04-08T11:13:02.132400Z"
    }
   },
   "cell_type": "code",
   "source": [
    "points = torch.tensor([[4.0, 1.0], [5.0, 3.0], [2.0, 1.0]])\n",
    "idx = torch.tensor([0, 2])\n",
    "res = torch.index_select(points, dim=0, index=idx)\n",
    "res"
   ],
   "id": "c9a33300faf80f5d",
   "outputs": [
    {
     "data": {
      "text/plain": [
       "tensor([[4., 1.],\n",
       "        [2., 1.]])"
      ]
     },
     "execution_count": 26,
     "metadata": {},
     "output_type": "execute_result"
    }
   ],
   "execution_count": 26
  },
  {
   "metadata": {
    "ExecuteTime": {
     "end_time": "2025-04-08T11:34:31.778459Z",
     "start_time": "2025-04-08T11:34:31.756459Z"
    }
   },
   "cell_type": "code",
   "source": [
    "mask = points.ge(3)\n",
    "mask"
   ],
   "id": "695fed3eb1d74bef",
   "outputs": [
    {
     "data": {
      "text/plain": [
       "tensor([[ True, False],\n",
       "        [ True,  True],\n",
       "        [False, False]])"
      ]
     },
     "execution_count": 27,
     "metadata": {},
     "output_type": "execute_result"
    }
   ],
   "execution_count": 27
  },
  {
   "metadata": {
    "ExecuteTime": {
     "end_time": "2025-04-08T11:34:53.038385Z",
     "start_time": "2025-04-08T11:34:53.016871Z"
    }
   },
   "cell_type": "code",
   "source": [
    "res = torch.masked_select(points, mask)\n",
    "res"
   ],
   "id": "43d8dad4743969d1",
   "outputs": [
    {
     "data": {
      "text/plain": [
       "tensor([4., 5., 3.])"
      ]
     },
     "execution_count": 28,
     "metadata": {},
     "output_type": "execute_result"
    }
   ],
   "execution_count": 28
  }
 ],
 "metadata": {
  "kernelspec": {
   "display_name": "Python 3",
   "language": "python",
   "name": "python3"
  },
  "language_info": {
   "codemirror_mode": {
    "name": "ipython",
    "version": 2
   },
   "file_extension": ".py",
   "mimetype": "text/x-python",
   "name": "python",
   "nbconvert_exporter": "python",
   "pygments_lexer": "ipython2",
   "version": "2.7.6"
  }
 },
 "nbformat": 4,
 "nbformat_minor": 5
}
